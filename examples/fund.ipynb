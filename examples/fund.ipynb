{
 "metadata": {
  "language_info": {
   "codemirror_mode": {
    "name": "ipython",
    "version": 3
   },
   "file_extension": ".py",
   "mimetype": "text/x-python",
   "name": "python",
   "nbconvert_exporter": "python",
   "pygments_lexer": "ipython3",
   "version": "3.7.9"
  },
  "orig_nbformat": 2,
  "kernelspec": {
   "name": "python379jvsc74a57bd0852e1ae7af286e361c3fbe3e50983a403e71a78379adad4bb0110f899e9db4fa",
   "display_name": "Python 3.7.9 64-bit ('current')"
  },
  "metadata": {
   "interpreter": {
    "hash": "852e1ae7af286e361c3fbe3e50983a403e71a78379adad4bb0110f899e9db4fa"
   }
  }
 },
 "nbformat": 4,
 "nbformat_minor": 2,
 "cells": [
  {
   "source": [
    "# 导入库"
   ],
   "cell_type": "markdown",
   "metadata": {}
  },
  {
   "cell_type": "code",
   "execution_count": 1,
   "metadata": {},
   "outputs": [],
   "source": [
    "import efinance as ef"
   ]
  },
  {
   "source": [
    "# 使用例子"
   ],
   "cell_type": "markdown",
   "metadata": {}
  },
  {
   "source": [
    "### 获取单只基金基本信息"
   ],
   "cell_type": "markdown",
   "metadata": {}
  },
  {
   "cell_type": "code",
   "execution_count": 2,
   "metadata": {},
   "outputs": [
    {
     "output_type": "execute_result",
     "data": {
      "text/plain": [
       "基金代码                                                161725\n",
       "基金简称                                        招商中证白酒指数(LOF)A\n",
       "FTYPE                                                 股票指数\n",
       "FEATURE                                    020,050,051,054\n",
       "BFUNDTYPE                                              001\n",
       "                                      ...                 \n",
       "HSGRT                                                0.10%\n",
       "BENCH                 中证白酒指数收益率*95%+金融机构人民币活期存款基准利率(税后)*5%\n",
       "FINSALES                                                 0\n",
       "INVESTMENTIDEAR                                         --\n",
       "INVESTMENTIDEARIMG                                      --\n",
       "Length: 118, dtype: object"
      ]
     },
     "metadata": {},
     "execution_count": 2
    }
   ],
   "source": [
    "ef.fund.get_base_info('161725')"
   ]
  },
  {
   "source": [
    "### 获取多只基金基本信息"
   ],
   "cell_type": "markdown",
   "metadata": {}
  },
  {
   "cell_type": "code",
   "execution_count": 3,
   "metadata": {},
   "outputs": [
    {
     "output_type": "stream",
     "name": "stderr",
     "text": [
      "processing 161725: 100%|██████████| 2/2 [00:00<00:00,  6.82it/s]"
     ]
    },
    {
     "output_type": "execute_result",
     "data": {
      "text/plain": [
       "     基金代码            基金简称 FTYPE          FEATURE BFUNDTYPE FUNDTYPE    涨跌幅  \\\n",
       "0  005827       易方达蓝筹精选混合   混合型          211,701       002      002  -1.09   \n",
       "1  161725  招商中证白酒指数(LOF)A  股票指数  020,050,051,054       001      001  -0.04   \n",
       "\n",
       "     最新净值    LJJZ  SGZT  ... MCOVERDETAIL  \\\n",
       "0  3.0088  3.0088   限大额  ...           --   \n",
       "1  1.5182  3.1493  开放申购  ...           --   \n",
       "\n",
       "                                     简介 TRKERROR ESTDIFF  HRGRT  HSGRT  \\\n",
       "0  明星消费基金经理另一力作，A+H股同步布局，价值投资典范，适合长期持有。       --   0.182  0.12%  0.15%   \n",
       "1     产品特色：布局白酒领域的指数基金，历史业绩优秀，外资偏爱白酒板块。   0.1732  0.0198  0.80%  0.10%   \n",
       "\n",
       "                                          BENCH FINSALES INVESTMENTIDEAR  \\\n",
       "0  沪深300指数收益率×45%+中证港股通综合指数收益率×35%+中债总指数收益率×20%        0              --   \n",
       "1          中证白酒指数收益率*95%+金融机构人民币活期存款基准利率(税后)*5%        0              --   \n",
       "\n",
       "  INVESTMENTIDEARIMG  \n",
       "0                 --  \n",
       "1                 --  \n",
       "\n",
       "[2 rows x 118 columns]"
      ],
      "text/html": "<div>\n<style scoped>\n    .dataframe tbody tr th:only-of-type {\n        vertical-align: middle;\n    }\n\n    .dataframe tbody tr th {\n        vertical-align: top;\n    }\n\n    .dataframe thead th {\n        text-align: right;\n    }\n</style>\n<table border=\"1\" class=\"dataframe\">\n  <thead>\n    <tr style=\"text-align: right;\">\n      <th></th>\n      <th>基金代码</th>\n      <th>基金简称</th>\n      <th>FTYPE</th>\n      <th>FEATURE</th>\n      <th>BFUNDTYPE</th>\n      <th>FUNDTYPE</th>\n      <th>涨跌幅</th>\n      <th>最新净值</th>\n      <th>LJJZ</th>\n      <th>SGZT</th>\n      <th>...</th>\n      <th>MCOVERDETAIL</th>\n      <th>简介</th>\n      <th>TRKERROR</th>\n      <th>ESTDIFF</th>\n      <th>HRGRT</th>\n      <th>HSGRT</th>\n      <th>BENCH</th>\n      <th>FINSALES</th>\n      <th>INVESTMENTIDEAR</th>\n      <th>INVESTMENTIDEARIMG</th>\n    </tr>\n  </thead>\n  <tbody>\n    <tr>\n      <th>0</th>\n      <td>005827</td>\n      <td>易方达蓝筹精选混合</td>\n      <td>混合型</td>\n      <td>211,701</td>\n      <td>002</td>\n      <td>002</td>\n      <td>-1.09</td>\n      <td>3.0088</td>\n      <td>3.0088</td>\n      <td>限大额</td>\n      <td>...</td>\n      <td>--</td>\n      <td>明星消费基金经理另一力作，A+H股同步布局，价值投资典范，适合长期持有。</td>\n      <td>--</td>\n      <td>0.182</td>\n      <td>0.12%</td>\n      <td>0.15%</td>\n      <td>沪深300指数收益率×45%+中证港股通综合指数收益率×35%+中债总指数收益率×20%</td>\n      <td>0</td>\n      <td>--</td>\n      <td>--</td>\n    </tr>\n    <tr>\n      <th>1</th>\n      <td>161725</td>\n      <td>招商中证白酒指数(LOF)A</td>\n      <td>股票指数</td>\n      <td>020,050,051,054</td>\n      <td>001</td>\n      <td>001</td>\n      <td>-0.04</td>\n      <td>1.5182</td>\n      <td>3.1493</td>\n      <td>开放申购</td>\n      <td>...</td>\n      <td>--</td>\n      <td>产品特色：布局白酒领域的指数基金，历史业绩优秀，外资偏爱白酒板块。</td>\n      <td>0.1732</td>\n      <td>0.0198</td>\n      <td>0.80%</td>\n      <td>0.10%</td>\n      <td>中证白酒指数收益率*95%+金融机构人民币活期存款基准利率(税后)*5%</td>\n      <td>0</td>\n      <td>--</td>\n      <td>--</td>\n    </tr>\n  </tbody>\n</table>\n<p>2 rows × 118 columns</p>\n</div>"
     },
     "metadata": {},
     "execution_count": 3
    }
   ],
   "source": [
    "ef.fund.get_base_info(['161725','005827'])"
   ]
  },
  {
   "source": [
    "### 获取基金历史净值信息"
   ],
   "cell_type": "markdown",
   "metadata": {}
  },
  {
   "cell_type": "code",
   "execution_count": 4,
   "metadata": {},
   "outputs": [
    {
     "output_type": "execute_result",
     "data": {
      "text/plain": [
       "             日期    单位净值    累计净值     涨跌幅\n",
       "0    2021-06-15  1.5182  3.1493   -0.04\n",
       "1    2021-06-11  1.5188  3.1499   -3.09\n",
       "2    2021-06-10  1.5673  3.1984    1.69\n",
       "3    2021-06-09  1.5412  3.1723    0.11\n",
       "4    2021-06-08  1.5395  3.1706    -6.5\n",
       "...         ...     ...     ...     ...\n",
       "1470 2015-06-08  1.0380  1.0380  2.5692\n",
       "1471 2015-06-05  1.0120  1.0120  1.5045\n",
       "1472 2015-06-04  0.9970  0.9970      --\n",
       "1473 2015-05-29  0.9950  0.9950      --\n",
       "1474 2015-05-27  1.0000  1.0000      --\n",
       "\n",
       "[1475 rows x 4 columns]"
      ],
      "text/html": "<div>\n<style scoped>\n    .dataframe tbody tr th:only-of-type {\n        vertical-align: middle;\n    }\n\n    .dataframe tbody tr th {\n        vertical-align: top;\n    }\n\n    .dataframe thead th {\n        text-align: right;\n    }\n</style>\n<table border=\"1\" class=\"dataframe\">\n  <thead>\n    <tr style=\"text-align: right;\">\n      <th></th>\n      <th>日期</th>\n      <th>单位净值</th>\n      <th>累计净值</th>\n      <th>涨跌幅</th>\n    </tr>\n  </thead>\n  <tbody>\n    <tr>\n      <th>0</th>\n      <td>2021-06-15</td>\n      <td>1.5182</td>\n      <td>3.1493</td>\n      <td>-0.04</td>\n    </tr>\n    <tr>\n      <th>1</th>\n      <td>2021-06-11</td>\n      <td>1.5188</td>\n      <td>3.1499</td>\n      <td>-3.09</td>\n    </tr>\n    <tr>\n      <th>2</th>\n      <td>2021-06-10</td>\n      <td>1.5673</td>\n      <td>3.1984</td>\n      <td>1.69</td>\n    </tr>\n    <tr>\n      <th>3</th>\n      <td>2021-06-09</td>\n      <td>1.5412</td>\n      <td>3.1723</td>\n      <td>0.11</td>\n    </tr>\n    <tr>\n      <th>4</th>\n      <td>2021-06-08</td>\n      <td>1.5395</td>\n      <td>3.1706</td>\n      <td>-6.5</td>\n    </tr>\n    <tr>\n      <th>...</th>\n      <td>...</td>\n      <td>...</td>\n      <td>...</td>\n      <td>...</td>\n    </tr>\n    <tr>\n      <th>1470</th>\n      <td>2015-06-08</td>\n      <td>1.0380</td>\n      <td>1.0380</td>\n      <td>2.5692</td>\n    </tr>\n    <tr>\n      <th>1471</th>\n      <td>2015-06-05</td>\n      <td>1.0120</td>\n      <td>1.0120</td>\n      <td>1.5045</td>\n    </tr>\n    <tr>\n      <th>1472</th>\n      <td>2015-06-04</td>\n      <td>0.9970</td>\n      <td>0.9970</td>\n      <td>--</td>\n    </tr>\n    <tr>\n      <th>1473</th>\n      <td>2015-05-29</td>\n      <td>0.9950</td>\n      <td>0.9950</td>\n      <td>--</td>\n    </tr>\n    <tr>\n      <th>1474</th>\n      <td>2015-05-27</td>\n      <td>1.0000</td>\n      <td>1.0000</td>\n      <td>--</td>\n    </tr>\n  </tbody>\n</table>\n<p>1475 rows × 4 columns</p>\n</div>"
     },
     "metadata": {},
     "execution_count": 4
    }
   ],
   "source": [
    "ef.fund.get_quote_history('161725')"
   ]
  },
  {
   "source": [
    "### 获取多只基金净值估算信息"
   ],
   "cell_type": "markdown",
   "metadata": {}
  },
  {
   "cell_type": "code",
   "execution_count": 5,
   "metadata": {},
   "outputs": [
    {
     "output_type": "execute_result",
     "data": {
      "text/plain": [
       "     基金代码              名称  估算涨跌幅              估算时间\n",
       "0  161725  招商中证白酒指数(LOF)A  -0.02  2021-06-15 15:00\n",
       "1  005827       易方达蓝筹精选混合  -1.01  2021-06-15 15:00"
      ],
      "text/html": "<div>\n<style scoped>\n    .dataframe tbody tr th:only-of-type {\n        vertical-align: middle;\n    }\n\n    .dataframe tbody tr th {\n        vertical-align: top;\n    }\n\n    .dataframe thead th {\n        text-align: right;\n    }\n</style>\n<table border=\"1\" class=\"dataframe\">\n  <thead>\n    <tr style=\"text-align: right;\">\n      <th></th>\n      <th>基金代码</th>\n      <th>名称</th>\n      <th>估算涨跌幅</th>\n      <th>估算时间</th>\n    </tr>\n  </thead>\n  <tbody>\n    <tr>\n      <th>0</th>\n      <td>161725</td>\n      <td>招商中证白酒指数(LOF)A</td>\n      <td>-0.02</td>\n      <td>2021-06-15 15:00</td>\n    </tr>\n    <tr>\n      <th>1</th>\n      <td>005827</td>\n      <td>易方达蓝筹精选混合</td>\n      <td>-1.01</td>\n      <td>2021-06-15 15:00</td>\n    </tr>\n  </tbody>\n</table>\n</div>"
     },
     "metadata": {},
     "execution_count": 5
    }
   ],
   "source": [
    "ef.fund.get_realtime_increase_rate(['161725','005827'])"
   ]
  },
  {
   "source": [
    "# 更多使用例子详见文档 [efinance-docs](https://micro-sheep.github.io/efinance)\n"
   ],
   "cell_type": "markdown",
   "metadata": {}
  }
 ]
}