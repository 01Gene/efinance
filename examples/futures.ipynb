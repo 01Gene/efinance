{
 "metadata": {
  "language_info": {
   "codemirror_mode": {
    "name": "ipython",
    "version": 3
   },
   "file_extension": ".py",
   "mimetype": "text/x-python",
   "name": "python",
   "nbconvert_exporter": "python",
   "pygments_lexer": "ipython3",
   "version": "3.7.6"
  },
  "orig_nbformat": 2,
  "kernelspec": {
   "name": "python376jvsc74a57bd0e9ae4a3111741d25bd59cdb8048d29880b3404ce47e161046c7e8029b6cea709",
   "display_name": "Python 3.7.6 64-bit ('efinance': conda)"
  },
  "metadata": {
   "interpreter": {
    "hash": "852e1ae7af286e361c3fbe3e50983a403e71a78379adad4bb0110f899e9db4fa"
   }
  }
 },
 "nbformat": 4,
 "nbformat_minor": 2,
 "cells": [
  {
   "source": [
    "# 导入库"
   ],
   "cell_type": "markdown",
   "metadata": {}
  },
  {
   "cell_type": "code",
   "execution_count": 1,
   "metadata": {},
   "outputs": [],
   "source": [
    "import efinance as ef"
   ]
  },
  {
   "source": [
    "# 使用例子"
   ],
   "cell_type": "markdown",
   "metadata": {}
  },
  {
   "source": [
    "### 获取四大交易所期货信息"
   ],
   "cell_type": "markdown",
   "metadata": {}
  },
  {
   "cell_type": "code",
   "execution_count": 2,
   "metadata": {},
   "outputs": [
    {
     "output_type": "execute_result",
     "data": {
      "text/plain": [
       "      期货代码     期货名称      secid 归属交易所\n",
       "0      URM     尿素主力    115.URM   郑商所\n",
       "1    UR109    尿素109  115.UR109   郑商所\n",
       "2      URS    尿素次主力    115.URS   郑商所\n",
       "3    UR107    尿素107  115.UR107   郑商所\n",
       "4    UR110    尿素110  115.UR110   郑商所\n",
       "..     ...      ...        ...   ...\n",
       "781     im    铁矿石主力     114.im   大商所\n",
       "782  i2109  铁矿石2109  114.i2109   大商所\n",
       "783     is   铁矿石次主力     114.is   大商所\n",
       "784  i2201  铁矿石2201  114.i2201   大商所\n",
       "785  i2112  铁矿石2112  114.i2112   大商所\n",
       "\n",
       "[786 rows x 4 columns]"
      ],
      "text/html": "<div>\n<style scoped>\n    .dataframe tbody tr th:only-of-type {\n        vertical-align: middle;\n    }\n\n    .dataframe tbody tr th {\n        vertical-align: top;\n    }\n\n    .dataframe thead th {\n        text-align: right;\n    }\n</style>\n<table border=\"1\" class=\"dataframe\">\n  <thead>\n    <tr style=\"text-align: right;\">\n      <th></th>\n      <th>期货代码</th>\n      <th>期货名称</th>\n      <th>secid</th>\n      <th>归属交易所</th>\n    </tr>\n  </thead>\n  <tbody>\n    <tr>\n      <th>0</th>\n      <td>URM</td>\n      <td>尿素主力</td>\n      <td>115.URM</td>\n      <td>郑商所</td>\n    </tr>\n    <tr>\n      <th>1</th>\n      <td>UR109</td>\n      <td>尿素109</td>\n      <td>115.UR109</td>\n      <td>郑商所</td>\n    </tr>\n    <tr>\n      <th>2</th>\n      <td>URS</td>\n      <td>尿素次主力</td>\n      <td>115.URS</td>\n      <td>郑商所</td>\n    </tr>\n    <tr>\n      <th>3</th>\n      <td>UR107</td>\n      <td>尿素107</td>\n      <td>115.UR107</td>\n      <td>郑商所</td>\n    </tr>\n    <tr>\n      <th>4</th>\n      <td>UR110</td>\n      <td>尿素110</td>\n      <td>115.UR110</td>\n      <td>郑商所</td>\n    </tr>\n    <tr>\n      <th>...</th>\n      <td>...</td>\n      <td>...</td>\n      <td>...</td>\n      <td>...</td>\n    </tr>\n    <tr>\n      <th>781</th>\n      <td>im</td>\n      <td>铁矿石主力</td>\n      <td>114.im</td>\n      <td>大商所</td>\n    </tr>\n    <tr>\n      <th>782</th>\n      <td>i2109</td>\n      <td>铁矿石2109</td>\n      <td>114.i2109</td>\n      <td>大商所</td>\n    </tr>\n    <tr>\n      <th>783</th>\n      <td>is</td>\n      <td>铁矿石次主力</td>\n      <td>114.is</td>\n      <td>大商所</td>\n    </tr>\n    <tr>\n      <th>784</th>\n      <td>i2201</td>\n      <td>铁矿石2201</td>\n      <td>114.i2201</td>\n      <td>大商所</td>\n    </tr>\n    <tr>\n      <th>785</th>\n      <td>i2112</td>\n      <td>铁矿石2112</td>\n      <td>114.i2112</td>\n      <td>大商所</td>\n    </tr>\n  </tbody>\n</table>\n<p>786 rows × 4 columns</p>\n</div>"
     },
     "metadata": {},
     "execution_count": 2
    }
   ],
   "source": [
    "ef.futures.get_futures_base_info()"
   ]
  },
  {
   "source": [
    "### 获取单个期货 k 线数据"
   ],
   "cell_type": "markdown",
   "metadata": {}
  },
  {
   "cell_type": "code",
   "execution_count": 3,
   "metadata": {},
   "outputs": [
    {
     "output_type": "execute_result",
     "data": {
      "text/plain": [
       "              日期     开盘     收盘     最高     最低     成交量            成交额    振幅  \\\n",
       "0     2015-05-18  440.0  437.6  440.2  437.6      64      2806300.0  0.00   \n",
       "1     2015-05-19  436.0  437.0  437.6  436.0       6       262100.0  0.36   \n",
       "2     2015-05-20  436.8  435.8  437.0  434.8       8       348750.0  0.50   \n",
       "3     2015-05-21  438.0  443.2  446.8  437.8      37      1631850.0  2.06   \n",
       "4     2015-05-22  439.2  441.4  443.8  439.2      34      1502500.0  1.04   \n",
       "...          ...    ...    ...    ...    ...     ...            ...   ...   \n",
       "1479  2021-06-15  847.0  861.4  868.8  830.0  214456  18215892736.0  4.74   \n",
       "1480  2021-06-16  861.4  849.6  862.6  842.0  141364  12066831104.0  2.43   \n",
       "1481  2021-06-17  850.0  863.2  870.8  846.0  149247  12823302144.0  2.91   \n",
       "1482  2021-06-18  859.0  835.0  874.4  834.0  185913  15902998016.0  4.70   \n",
       "1483  2021-06-21  835.0  853.8  862.0  835.0  108537   9219132672.0  3.16   \n",
       "\n",
       "        涨跌幅    涨跌额   换手率  \n",
       "0      0.00    0.0  0.00  \n",
       "1     -0.32   -1.4  0.00  \n",
       "2     -0.23   -1.0  0.00  \n",
       "3      1.65    7.2  0.00  \n",
       "4      0.09    0.4  0.00  \n",
       "...     ...    ...   ...  \n",
       "1479   5.28   43.2  0.00  \n",
       "1480   0.02    0.2  0.00  \n",
       "1481   1.12    9.6  0.00  \n",
       "1482  -2.82  -24.2  0.00  \n",
       "1483  -0.19   -1.6  0.00  \n",
       "\n",
       "[1484 rows x 11 columns]"
      ],
      "text/html": "<div>\n<style scoped>\n    .dataframe tbody tr th:only-of-type {\n        vertical-align: middle;\n    }\n\n    .dataframe tbody tr th {\n        vertical-align: top;\n    }\n\n    .dataframe thead th {\n        text-align: right;\n    }\n</style>\n<table border=\"1\" class=\"dataframe\">\n  <thead>\n    <tr style=\"text-align: right;\">\n      <th></th>\n      <th>日期</th>\n      <th>开盘</th>\n      <th>收盘</th>\n      <th>最高</th>\n      <th>最低</th>\n      <th>成交量</th>\n      <th>成交额</th>\n      <th>振幅</th>\n      <th>涨跌幅</th>\n      <th>涨跌额</th>\n      <th>换手率</th>\n    </tr>\n  </thead>\n  <tbody>\n    <tr>\n      <th>0</th>\n      <td>2015-05-18</td>\n      <td>440.0</td>\n      <td>437.6</td>\n      <td>440.2</td>\n      <td>437.6</td>\n      <td>64</td>\n      <td>2806300.0</td>\n      <td>0.00</td>\n      <td>0.00</td>\n      <td>0.0</td>\n      <td>0.00</td>\n    </tr>\n    <tr>\n      <th>1</th>\n      <td>2015-05-19</td>\n      <td>436.0</td>\n      <td>437.0</td>\n      <td>437.6</td>\n      <td>436.0</td>\n      <td>6</td>\n      <td>262100.0</td>\n      <td>0.36</td>\n      <td>-0.32</td>\n      <td>-1.4</td>\n      <td>0.00</td>\n    </tr>\n    <tr>\n      <th>2</th>\n      <td>2015-05-20</td>\n      <td>436.8</td>\n      <td>435.8</td>\n      <td>437.0</td>\n      <td>434.8</td>\n      <td>8</td>\n      <td>348750.0</td>\n      <td>0.50</td>\n      <td>-0.23</td>\n      <td>-1.0</td>\n      <td>0.00</td>\n    </tr>\n    <tr>\n      <th>3</th>\n      <td>2015-05-21</td>\n      <td>438.0</td>\n      <td>443.2</td>\n      <td>446.8</td>\n      <td>437.8</td>\n      <td>37</td>\n      <td>1631850.0</td>\n      <td>2.06</td>\n      <td>1.65</td>\n      <td>7.2</td>\n      <td>0.00</td>\n    </tr>\n    <tr>\n      <th>4</th>\n      <td>2015-05-22</td>\n      <td>439.2</td>\n      <td>441.4</td>\n      <td>443.8</td>\n      <td>439.2</td>\n      <td>34</td>\n      <td>1502500.0</td>\n      <td>1.04</td>\n      <td>0.09</td>\n      <td>0.4</td>\n      <td>0.00</td>\n    </tr>\n    <tr>\n      <th>...</th>\n      <td>...</td>\n      <td>...</td>\n      <td>...</td>\n      <td>...</td>\n      <td>...</td>\n      <td>...</td>\n      <td>...</td>\n      <td>...</td>\n      <td>...</td>\n      <td>...</td>\n      <td>...</td>\n    </tr>\n    <tr>\n      <th>1479</th>\n      <td>2021-06-15</td>\n      <td>847.0</td>\n      <td>861.4</td>\n      <td>868.8</td>\n      <td>830.0</td>\n      <td>214456</td>\n      <td>18215892736.0</td>\n      <td>4.74</td>\n      <td>5.28</td>\n      <td>43.2</td>\n      <td>0.00</td>\n    </tr>\n    <tr>\n      <th>1480</th>\n      <td>2021-06-16</td>\n      <td>861.4</td>\n      <td>849.6</td>\n      <td>862.6</td>\n      <td>842.0</td>\n      <td>141364</td>\n      <td>12066831104.0</td>\n      <td>2.43</td>\n      <td>0.02</td>\n      <td>0.2</td>\n      <td>0.00</td>\n    </tr>\n    <tr>\n      <th>1481</th>\n      <td>2021-06-17</td>\n      <td>850.0</td>\n      <td>863.2</td>\n      <td>870.8</td>\n      <td>846.0</td>\n      <td>149247</td>\n      <td>12823302144.0</td>\n      <td>2.91</td>\n      <td>1.12</td>\n      <td>9.6</td>\n      <td>0.00</td>\n    </tr>\n    <tr>\n      <th>1482</th>\n      <td>2021-06-18</td>\n      <td>859.0</td>\n      <td>835.0</td>\n      <td>874.4</td>\n      <td>834.0</td>\n      <td>185913</td>\n      <td>15902998016.0</td>\n      <td>4.70</td>\n      <td>-2.82</td>\n      <td>-24.2</td>\n      <td>0.00</td>\n    </tr>\n    <tr>\n      <th>1483</th>\n      <td>2021-06-21</td>\n      <td>835.0</td>\n      <td>853.8</td>\n      <td>862.0</td>\n      <td>835.0</td>\n      <td>108537</td>\n      <td>9219132672.0</td>\n      <td>3.16</td>\n      <td>-0.19</td>\n      <td>-1.6</td>\n      <td>0.00</td>\n    </tr>\n  </tbody>\n</table>\n<p>1484 rows × 11 columns</p>\n</div>"
     },
     "metadata": {},
     "execution_count": 3
    }
   ],
   "source": [
    "secid = '115.ZCM'\n",
    "ef.futures.get_quote_history(secid)"
   ]
  },
  {
   "source": [
    "### 获取多个期货历史 k 线数据"
   ],
   "cell_type": "markdown",
   "metadata": {}
  },
  {
   "cell_type": "code",
   "execution_count": 4,
   "metadata": {},
   "outputs": [
    {
     "output_type": "stream",
     "name": "stderr",
     "text": [
      "Processing: 115.ZCM: 100%|██████████| 2/2 [00:00<00:00,  6.77it/s]\n"
     ]
    },
    {
     "output_type": "execute_result",
     "data": {
      "text/plain": [
       "{'115.ZC109':              日期     开盘     收盘     最高     最低     成交量            成交额    振幅  \\\n",
       " 0    2020-09-09  551.2  551.2  551.2  551.2       2       110240.0  0.00   \n",
       " 1    2020-09-10  548.6  545.0  549.8  545.0       6       328920.0  0.87   \n",
       " 2    2020-09-11  545.0  544.2  548.4  543.0       7       381500.0  0.99   \n",
       " 3    2020-09-14  546.0  550.4  550.4  546.0       7       384300.0  0.81   \n",
       " 4    2020-09-15  549.0  551.2  551.6  549.0      14       770560.0  0.47   \n",
       " ..          ...    ...    ...    ...    ...     ...            ...   ...   \n",
       " 182  2021-06-15  847.0  861.4  868.8  830.0  214456  18215892736.0  4.74   \n",
       " 183  2021-06-16  861.4  849.6  862.6  842.0  141364  12066831104.0  2.43   \n",
       " 184  2021-06-17  850.0  863.2  870.8  846.0  149247  12823302144.0  2.91   \n",
       " 185  2021-06-18  859.0  835.0  874.4  834.0  185913  15902998016.0  4.70   \n",
       " 186  2021-06-21  835.0  853.8  862.0  835.0  108537   9219132672.0  3.16   \n",
       " \n",
       "        涨跌幅    涨跌额   换手率  \n",
       " 0     0.00    0.0  0.00  \n",
       " 1    -1.12   -6.2  0.00  \n",
       " 2    -0.73   -4.0  0.00  \n",
       " 3     0.99    5.4  0.00  \n",
       " 4     0.40    2.2  0.00  \n",
       " ..     ...    ...   ...  \n",
       " 182   5.28   43.2  0.00  \n",
       " 183   0.02    0.2  0.00  \n",
       " 184   1.12    9.6  0.00  \n",
       " 185  -2.82  -24.2  0.00  \n",
       " 186  -0.19   -1.6  0.00  \n",
       " \n",
       " [187 rows x 11 columns],\n",
       " '115.ZCM':               日期     开盘     收盘     最高     最低     成交量            成交额    振幅  \\\n",
       " 0     2015-05-18  440.0  437.6  440.2  437.6      64      2806300.0  0.00   \n",
       " 1     2015-05-19  436.0  437.0  437.6  436.0       6       262100.0  0.36   \n",
       " 2     2015-05-20  436.8  435.8  437.0  434.8       8       348750.0  0.50   \n",
       " 3     2015-05-21  438.0  443.2  446.8  437.8      37      1631850.0  2.06   \n",
       " 4     2015-05-22  439.2  441.4  443.8  439.2      34      1502500.0  1.04   \n",
       " ...          ...    ...    ...    ...    ...     ...            ...   ...   \n",
       " 1479  2021-06-15  847.0  861.4  868.8  830.0  214456  18215892736.0  4.74   \n",
       " 1480  2021-06-16  861.4  849.6  862.6  842.0  141364  12066831104.0  2.43   \n",
       " 1481  2021-06-17  850.0  863.2  870.8  846.0  149247  12823302144.0  2.91   \n",
       " 1482  2021-06-18  859.0  835.0  874.4  834.0  185913  15902998016.0  4.70   \n",
       " 1483  2021-06-21  835.0  853.8  862.0  835.0  108537   9219132672.0  3.16   \n",
       " \n",
       "         涨跌幅    涨跌额   换手率  \n",
       " 0      0.00    0.0  0.00  \n",
       " 1     -0.32   -1.4  0.00  \n",
       " 2     -0.23   -1.0  0.00  \n",
       " 3      1.65    7.2  0.00  \n",
       " 4      0.09    0.4  0.00  \n",
       " ...     ...    ...   ...  \n",
       " 1479   5.28   43.2  0.00  \n",
       " 1480   0.02    0.2  0.00  \n",
       " 1481   1.12    9.6  0.00  \n",
       " 1482  -2.82  -24.2  0.00  \n",
       " 1483  -0.19   -1.6  0.00  \n",
       " \n",
       " [1484 rows x 11 columns]}"
      ]
     },
     "metadata": {},
     "execution_count": 4
    }
   ],
   "source": [
    "secids = ['115.ZCM','115.ZC109']\n",
    "ef.futures.get_quote_history(secids)"
   ]
  },
  {
   "source": [
    "# 更多使用例子详见文档 [efinance-docs](https://micro-sheep.github.io/efinance)\n"
   ],
   "cell_type": "markdown",
   "metadata": {}
  }
 ]
}