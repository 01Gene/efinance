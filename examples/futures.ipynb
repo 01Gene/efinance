{
 "metadata": {
  "language_info": {
   "codemirror_mode": {
    "name": "ipython",
    "version": 3
   },
   "file_extension": ".py",
   "mimetype": "text/x-python",
   "name": "python",
   "nbconvert_exporter": "python",
   "pygments_lexer": "ipython3",
   "version": "3.7.9"
  },
  "orig_nbformat": 2,
  "kernelspec": {
   "name": "python379jvsc74a57bd0852e1ae7af286e361c3fbe3e50983a403e71a78379adad4bb0110f899e9db4fa",
   "display_name": "Python 3.7.9 64-bit ('current')"
  },
  "metadata": {
   "interpreter": {
    "hash": "852e1ae7af286e361c3fbe3e50983a403e71a78379adad4bb0110f899e9db4fa"
   }
  }
 },
 "nbformat": 4,
 "nbformat_minor": 2,
 "cells": [
  {
   "source": [
    "# 导入库"
   ],
   "cell_type": "markdown",
   "metadata": {}
  },
  {
   "cell_type": "code",
   "execution_count": 1,
   "metadata": {},
   "outputs": [],
   "source": [
    "import efinance as ef"
   ]
  },
  {
   "source": [
    "# 使用例子"
   ],
   "cell_type": "markdown",
   "metadata": {}
  },
  {
   "source": [
    "### 获取四大交易所期货信息"
   ],
   "cell_type": "markdown",
   "metadata": {}
  },
  {
   "cell_type": "code",
   "execution_count": 2,
   "metadata": {},
   "outputs": [
    {
     "output_type": "execute_result",
     "data": {
      "text/plain": [
       "       期货代码     期货名称       secid 归属交易所\n",
       "0    jm2107   焦煤2107  114.jm2107   大商所\n",
       "1    jm2112   焦煤2112  114.jm2112   大商所\n",
       "2    eb2205  苯乙烯2205  114.eb2205   大商所\n",
       "3       MAS    甲醇次主力     115.MAS   郑商所\n",
       "4     MA110    甲醇110   115.MA110   郑商所\n",
       "..      ...      ...         ...   ...\n",
       "781     nis    沪镍次主力     113.nis   上期所\n",
       "782  ni2108   沪镍2108  113.ni2108   上期所\n",
       "783     nim     沪镍主力     113.nim   上期所\n",
       "784  ni2107   沪镍2107  113.ni2107   上期所\n",
       "785  ni2201   沪镍2201  113.ni2201   上期所\n",
       "\n",
       "[786 rows x 4 columns]"
      ],
      "text/html": "<div>\n<style scoped>\n    .dataframe tbody tr th:only-of-type {\n        vertical-align: middle;\n    }\n\n    .dataframe tbody tr th {\n        vertical-align: top;\n    }\n\n    .dataframe thead th {\n        text-align: right;\n    }\n</style>\n<table border=\"1\" class=\"dataframe\">\n  <thead>\n    <tr style=\"text-align: right;\">\n      <th></th>\n      <th>期货代码</th>\n      <th>期货名称</th>\n      <th>secid</th>\n      <th>归属交易所</th>\n    </tr>\n  </thead>\n  <tbody>\n    <tr>\n      <th>0</th>\n      <td>jm2107</td>\n      <td>焦煤2107</td>\n      <td>114.jm2107</td>\n      <td>大商所</td>\n    </tr>\n    <tr>\n      <th>1</th>\n      <td>jm2112</td>\n      <td>焦煤2112</td>\n      <td>114.jm2112</td>\n      <td>大商所</td>\n    </tr>\n    <tr>\n      <th>2</th>\n      <td>eb2205</td>\n      <td>苯乙烯2205</td>\n      <td>114.eb2205</td>\n      <td>大商所</td>\n    </tr>\n    <tr>\n      <th>3</th>\n      <td>MAS</td>\n      <td>甲醇次主力</td>\n      <td>115.MAS</td>\n      <td>郑商所</td>\n    </tr>\n    <tr>\n      <th>4</th>\n      <td>MA110</td>\n      <td>甲醇110</td>\n      <td>115.MA110</td>\n      <td>郑商所</td>\n    </tr>\n    <tr>\n      <th>...</th>\n      <td>...</td>\n      <td>...</td>\n      <td>...</td>\n      <td>...</td>\n    </tr>\n    <tr>\n      <th>781</th>\n      <td>nis</td>\n      <td>沪镍次主力</td>\n      <td>113.nis</td>\n      <td>上期所</td>\n    </tr>\n    <tr>\n      <th>782</th>\n      <td>ni2108</td>\n      <td>沪镍2108</td>\n      <td>113.ni2108</td>\n      <td>上期所</td>\n    </tr>\n    <tr>\n      <th>783</th>\n      <td>nim</td>\n      <td>沪镍主力</td>\n      <td>113.nim</td>\n      <td>上期所</td>\n    </tr>\n    <tr>\n      <th>784</th>\n      <td>ni2107</td>\n      <td>沪镍2107</td>\n      <td>113.ni2107</td>\n      <td>上期所</td>\n    </tr>\n    <tr>\n      <th>785</th>\n      <td>ni2201</td>\n      <td>沪镍2201</td>\n      <td>113.ni2201</td>\n      <td>上期所</td>\n    </tr>\n  </tbody>\n</table>\n<p>786 rows × 4 columns</p>\n</div>"
     },
     "metadata": {},
     "execution_count": 2
    }
   ],
   "source": [
    "ef.futures.get_futures_base_info()"
   ]
  },
  {
   "source": [
    "### 获取单个期货 k 线数据"
   ],
   "cell_type": "markdown",
   "metadata": {}
  },
  {
   "cell_type": "code",
   "execution_count": 3,
   "metadata": {},
   "outputs": [
    {
     "output_type": "execute_result",
     "data": {
      "text/plain": [
       "              日期     开盘     收盘     最高     最低     成交量            成交额    振幅  \\\n",
       "0     2015-05-18  440.0  437.6  440.2  437.6      64      2806300.0  0.00   \n",
       "1     2015-05-19  436.0  437.0  437.6  436.0       6       262100.0  0.36   \n",
       "2     2015-05-20  436.8  435.8  437.0  434.8       8       348750.0  0.50   \n",
       "3     2015-05-21  438.0  443.2  446.8  437.8      37      1631850.0  2.06   \n",
       "4     2015-05-22  439.2  441.4  443.8  439.2      34      1502500.0  1.04   \n",
       "...          ...    ...    ...    ...    ...     ...            ...   ...   \n",
       "1476  2021-06-09  822.4  818.2  832.2  816.0  193464  15925956608.0  2.01   \n",
       "1477  2021-06-10  818.0  803.4  828.4  801.2  168933  13805204736.0  3.30   \n",
       "1478  2021-06-11  807.0  827.2  833.0  805.8  207762  16999086848.0  3.33   \n",
       "1479  2021-06-15  847.0  861.4  868.8  830.0  214456  18215892736.0  4.74   \n",
       "1480  2021-06-16  861.4  856.8  862.6  852.0   53151   4557166848.0  1.25   \n",
       "\n",
       "        涨跌幅    涨跌额   换手率  \n",
       "0      0.00    0.0  0.00  \n",
       "1     -0.32   -1.4  0.00  \n",
       "2     -0.23   -1.0  0.00  \n",
       "3      1.65    7.2  0.00  \n",
       "4      0.09    0.4  0.00  \n",
       "...     ...    ...   ...  \n",
       "1476   1.46   11.8  0.00  \n",
       "1477  -2.41  -19.8  0.00  \n",
       "1478   1.22   10.0  0.00  \n",
       "1479   5.28   43.2  0.00  \n",
       "1480   0.87    7.4  0.00  \n",
       "\n",
       "[1481 rows x 11 columns]"
      ],
      "text/html": "<div>\n<style scoped>\n    .dataframe tbody tr th:only-of-type {\n        vertical-align: middle;\n    }\n\n    .dataframe tbody tr th {\n        vertical-align: top;\n    }\n\n    .dataframe thead th {\n        text-align: right;\n    }\n</style>\n<table border=\"1\" class=\"dataframe\">\n  <thead>\n    <tr style=\"text-align: right;\">\n      <th></th>\n      <th>日期</th>\n      <th>开盘</th>\n      <th>收盘</th>\n      <th>最高</th>\n      <th>最低</th>\n      <th>成交量</th>\n      <th>成交额</th>\n      <th>振幅</th>\n      <th>涨跌幅</th>\n      <th>涨跌额</th>\n      <th>换手率</th>\n    </tr>\n  </thead>\n  <tbody>\n    <tr>\n      <th>0</th>\n      <td>2015-05-18</td>\n      <td>440.0</td>\n      <td>437.6</td>\n      <td>440.2</td>\n      <td>437.6</td>\n      <td>64</td>\n      <td>2806300.0</td>\n      <td>0.00</td>\n      <td>0.00</td>\n      <td>0.0</td>\n      <td>0.00</td>\n    </tr>\n    <tr>\n      <th>1</th>\n      <td>2015-05-19</td>\n      <td>436.0</td>\n      <td>437.0</td>\n      <td>437.6</td>\n      <td>436.0</td>\n      <td>6</td>\n      <td>262100.0</td>\n      <td>0.36</td>\n      <td>-0.32</td>\n      <td>-1.4</td>\n      <td>0.00</td>\n    </tr>\n    <tr>\n      <th>2</th>\n      <td>2015-05-20</td>\n      <td>436.8</td>\n      <td>435.8</td>\n      <td>437.0</td>\n      <td>434.8</td>\n      <td>8</td>\n      <td>348750.0</td>\n      <td>0.50</td>\n      <td>-0.23</td>\n      <td>-1.0</td>\n      <td>0.00</td>\n    </tr>\n    <tr>\n      <th>3</th>\n      <td>2015-05-21</td>\n      <td>438.0</td>\n      <td>443.2</td>\n      <td>446.8</td>\n      <td>437.8</td>\n      <td>37</td>\n      <td>1631850.0</td>\n      <td>2.06</td>\n      <td>1.65</td>\n      <td>7.2</td>\n      <td>0.00</td>\n    </tr>\n    <tr>\n      <th>4</th>\n      <td>2015-05-22</td>\n      <td>439.2</td>\n      <td>441.4</td>\n      <td>443.8</td>\n      <td>439.2</td>\n      <td>34</td>\n      <td>1502500.0</td>\n      <td>1.04</td>\n      <td>0.09</td>\n      <td>0.4</td>\n      <td>0.00</td>\n    </tr>\n    <tr>\n      <th>...</th>\n      <td>...</td>\n      <td>...</td>\n      <td>...</td>\n      <td>...</td>\n      <td>...</td>\n      <td>...</td>\n      <td>...</td>\n      <td>...</td>\n      <td>...</td>\n      <td>...</td>\n      <td>...</td>\n    </tr>\n    <tr>\n      <th>1476</th>\n      <td>2021-06-09</td>\n      <td>822.4</td>\n      <td>818.2</td>\n      <td>832.2</td>\n      <td>816.0</td>\n      <td>193464</td>\n      <td>15925956608.0</td>\n      <td>2.01</td>\n      <td>1.46</td>\n      <td>11.8</td>\n      <td>0.00</td>\n    </tr>\n    <tr>\n      <th>1477</th>\n      <td>2021-06-10</td>\n      <td>818.0</td>\n      <td>803.4</td>\n      <td>828.4</td>\n      <td>801.2</td>\n      <td>168933</td>\n      <td>13805204736.0</td>\n      <td>3.30</td>\n      <td>-2.41</td>\n      <td>-19.8</td>\n      <td>0.00</td>\n    </tr>\n    <tr>\n      <th>1478</th>\n      <td>2021-06-11</td>\n      <td>807.0</td>\n      <td>827.2</td>\n      <td>833.0</td>\n      <td>805.8</td>\n      <td>207762</td>\n      <td>16999086848.0</td>\n      <td>3.33</td>\n      <td>1.22</td>\n      <td>10.0</td>\n      <td>0.00</td>\n    </tr>\n    <tr>\n      <th>1479</th>\n      <td>2021-06-15</td>\n      <td>847.0</td>\n      <td>861.4</td>\n      <td>868.8</td>\n      <td>830.0</td>\n      <td>214456</td>\n      <td>18215892736.0</td>\n      <td>4.74</td>\n      <td>5.28</td>\n      <td>43.2</td>\n      <td>0.00</td>\n    </tr>\n    <tr>\n      <th>1480</th>\n      <td>2021-06-16</td>\n      <td>861.4</td>\n      <td>856.8</td>\n      <td>862.6</td>\n      <td>852.0</td>\n      <td>53151</td>\n      <td>4557166848.0</td>\n      <td>1.25</td>\n      <td>0.87</td>\n      <td>7.4</td>\n      <td>0.00</td>\n    </tr>\n  </tbody>\n</table>\n<p>1481 rows × 11 columns</p>\n</div>"
     },
     "metadata": {},
     "execution_count": 3
    }
   ],
   "source": [
    "secid = '115.ZCM'\n",
    "ef.futures.get_quote_history(secid)"
   ]
  },
  {
   "source": [
    "### 获取多个期货历史 k 线数据"
   ],
   "cell_type": "markdown",
   "metadata": {}
  },
  {
   "cell_type": "code",
   "execution_count": 4,
   "metadata": {},
   "outputs": [
    {
     "output_type": "stream",
     "name": "stderr",
     "text": [
      "Processing: 115.ZCM: 100%|██████████| 2/2 [00:00<00:00,  7.78it/s]\n"
     ]
    },
    {
     "output_type": "execute_result",
     "data": {
      "text/plain": [
       "{'115.ZC109':              日期     开盘     收盘     最高     最低     成交量            成交额    振幅  \\\n",
       " 0    2020-09-09  551.2  551.2  551.2  551.2       2       110240.0  0.00   \n",
       " 1    2020-09-10  548.6  545.0  549.8  545.0       6       328920.0  0.87   \n",
       " 2    2020-09-11  545.0  544.2  548.4  543.0       7       381500.0  0.99   \n",
       " 3    2020-09-14  546.0  550.4  550.4  546.0       7       384300.0  0.81   \n",
       " 4    2020-09-15  549.0  551.2  551.6  549.0      14       770560.0  0.47   \n",
       " ..          ...    ...    ...    ...    ...     ...            ...   ...   \n",
       " 179  2021-06-09  822.4  818.2  832.2  816.0  193464  15925956608.0  2.01   \n",
       " 180  2021-06-10  818.0  803.4  828.4  801.2  168933  13805204736.0  3.30   \n",
       " 181  2021-06-11  807.0  827.2  833.0  805.8  207762  16999086848.0  3.33   \n",
       " 182  2021-06-15  847.0  861.4  868.8  830.0  214456  18215892736.0  4.74   \n",
       " 183  2021-06-16  861.4  856.8  862.6  852.0   53151   4557166848.0  1.25   \n",
       " \n",
       "        涨跌幅    涨跌额   换手率  \n",
       " 0     0.00    0.0  0.00  \n",
       " 1    -1.12   -6.2  0.00  \n",
       " 2    -0.73   -4.0  0.00  \n",
       " 3     0.99    5.4  0.00  \n",
       " 4     0.40    2.2  0.00  \n",
       " ..     ...    ...   ...  \n",
       " 179   1.46   11.8  0.00  \n",
       " 180  -2.41  -19.8  0.00  \n",
       " 181   1.22   10.0  0.00  \n",
       " 182   5.28   43.2  0.00  \n",
       " 183   0.87    7.4  0.00  \n",
       " \n",
       " [184 rows x 11 columns],\n",
       " '115.ZCM':               日期     开盘     收盘     最高     最低     成交量            成交额    振幅  \\\n",
       " 0     2015-05-18  440.0  437.6  440.2  437.6      64      2806300.0  0.00   \n",
       " 1     2015-05-19  436.0  437.0  437.6  436.0       6       262100.0  0.36   \n",
       " 2     2015-05-20  436.8  435.8  437.0  434.8       8       348750.0  0.50   \n",
       " 3     2015-05-21  438.0  443.2  446.8  437.8      37      1631850.0  2.06   \n",
       " 4     2015-05-22  439.2  441.4  443.8  439.2      34      1502500.0  1.04   \n",
       " ...          ...    ...    ...    ...    ...     ...            ...   ...   \n",
       " 1476  2021-06-09  822.4  818.2  832.2  816.0  193464  15925956608.0  2.01   \n",
       " 1477  2021-06-10  818.0  803.4  828.4  801.2  168933  13805204736.0  3.30   \n",
       " 1478  2021-06-11  807.0  827.2  833.0  805.8  207762  16999086848.0  3.33   \n",
       " 1479  2021-06-15  847.0  861.4  868.8  830.0  214456  18215892736.0  4.74   \n",
       " 1480  2021-06-16  861.4  856.8  862.6  852.0   53151   4557166848.0  1.25   \n",
       " \n",
       "         涨跌幅    涨跌额   换手率  \n",
       " 0      0.00    0.0  0.00  \n",
       " 1     -0.32   -1.4  0.00  \n",
       " 2     -0.23   -1.0  0.00  \n",
       " 3      1.65    7.2  0.00  \n",
       " 4      0.09    0.4  0.00  \n",
       " ...     ...    ...   ...  \n",
       " 1476   1.46   11.8  0.00  \n",
       " 1477  -2.41  -19.8  0.00  \n",
       " 1478   1.22   10.0  0.00  \n",
       " 1479   5.28   43.2  0.00  \n",
       " 1480   0.87    7.4  0.00  \n",
       " \n",
       " [1481 rows x 11 columns]}"
      ]
     },
     "metadata": {},
     "execution_count": 4
    }
   ],
   "source": [
    "secids = ['115.ZCM','115.ZC109']\n",
    "ef.futures.get_quote_history(secids)"
   ]
  },
  {
   "source": [
    "# 更多使用例子详见文档 [efinance-docs](https://micro-sheep.github.io/efinance)\n"
   ],
   "cell_type": "markdown",
   "metadata": {}
  }
 ]
}