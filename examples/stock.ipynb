{
 "metadata": {
  "language_info": {
   "codemirror_mode": {
    "name": "ipython",
    "version": 3
   },
   "file_extension": ".py",
   "mimetype": "text/x-python",
   "name": "python",
   "nbconvert_exporter": "python",
   "pygments_lexer": "ipython3",
   "version": "3.7.6"
  },
  "orig_nbformat": 2,
  "kernelspec": {
   "name": "python376jvsc74a57bd0e9ae4a3111741d25bd59cdb8048d29880b3404ce47e161046c7e8029b6cea709",
   "display_name": "Python 3.7.6 64-bit ('efinance': conda)"
  },
  "metadata": {
   "interpreter": {
    "hash": "2869ce9e5406e14300c007bd85d712496dadc3f6ad6dbd3a9c900289863a5f83"
   }
  }
 },
 "nbformat": 4,
 "nbformat_minor": 2,
 "cells": [
  {
   "source": [
    "# 导入库"
   ],
   "cell_type": "markdown",
   "metadata": {}
  },
  {
   "cell_type": "code",
   "execution_count": 1,
   "metadata": {},
   "outputs": [],
   "source": [
    "import efinance as ef"
   ]
  },
  {
   "source": [
    "# 使用例子"
   ],
   "cell_type": "markdown",
   "metadata": {}
  },
  {
   "source": [
    "### 获取单只股票基本信息"
   ],
   "cell_type": "markdown",
   "metadata": {}
  },
  {
   "cell_type": "code",
   "execution_count": 2,
   "metadata": {},
   "outputs": [
    {
     "output_type": "execute_result",
     "data": {
      "text/plain": [
       "股票代码                  600519\n",
       "股票名称                    贵州茅台\n",
       "市盈率(动)                 49.35\n",
       "市盈率                    15.72\n",
       "所处行业                    酿酒行业\n",
       "总市值          2754841775400.0\n",
       "流通市值         2754841775400.0\n",
       "板块编号                  BK0477\n",
       "ROE                     8.29\n",
       "净利率                  54.1678\n",
       "净利润       13954462085.610001\n",
       "毛利率                  91.6763\n",
       "dtype: object"
      ]
     },
     "metadata": {},
     "execution_count": 2
    }
   ],
   "source": [
    "stock_code = '600519'\n",
    "ef.stock.get_base_info(stock_code)"
   ]
  },
  {
   "source": [
    "### 获取多只股票基本信息"
   ],
   "cell_type": "markdown",
   "metadata": {}
  },
  {
   "cell_type": "code",
   "execution_count": 3,
   "metadata": {},
   "outputs": [
    {
     "output_type": "stream",
     "name": "stderr",
     "text": [
      "processing 300750: 100%|██████████| 2/2 [00:00<00:00, 19.10it/s]"
     ]
    },
    {
     "output_type": "execute_result",
     "data": {
      "text/plain": [
       "     股票代码  股票名称  市盈率(动)    市盈率  所处行业           总市值          流通市值    板块编号  \\\n",
       "0  600519  贵州茅台   49.35  15.72  酿酒行业  2.754842e+12  2.754842e+12  BK0477   \n",
       "1  300750  宁德时代  132.60  15.79  汽车行业  1.036616e+12  1.027674e+12  BK0481   \n",
       "\n",
       "    ROE      净利率           净利润      毛利率  \n",
       "0  8.29  54.1678  1.395446e+10  91.6763  \n",
       "1  3.01  12.2289  1.954417e+09  27.2795  "
      ],
      "text/html": "<div>\n<style scoped>\n    .dataframe tbody tr th:only-of-type {\n        vertical-align: middle;\n    }\n\n    .dataframe tbody tr th {\n        vertical-align: top;\n    }\n\n    .dataframe thead th {\n        text-align: right;\n    }\n</style>\n<table border=\"1\" class=\"dataframe\">\n  <thead>\n    <tr style=\"text-align: right;\">\n      <th></th>\n      <th>股票代码</th>\n      <th>股票名称</th>\n      <th>市盈率(动)</th>\n      <th>市盈率</th>\n      <th>所处行业</th>\n      <th>总市值</th>\n      <th>流通市值</th>\n      <th>板块编号</th>\n      <th>ROE</th>\n      <th>净利率</th>\n      <th>净利润</th>\n      <th>毛利率</th>\n    </tr>\n  </thead>\n  <tbody>\n    <tr>\n      <th>0</th>\n      <td>600519</td>\n      <td>贵州茅台</td>\n      <td>49.35</td>\n      <td>15.72</td>\n      <td>酿酒行业</td>\n      <td>2.754842e+12</td>\n      <td>2.754842e+12</td>\n      <td>BK0477</td>\n      <td>8.29</td>\n      <td>54.1678</td>\n      <td>1.395446e+10</td>\n      <td>91.6763</td>\n    </tr>\n    <tr>\n      <th>1</th>\n      <td>300750</td>\n      <td>宁德时代</td>\n      <td>132.60</td>\n      <td>15.79</td>\n      <td>汽车行业</td>\n      <td>1.036616e+12</td>\n      <td>1.027674e+12</td>\n      <td>BK0481</td>\n      <td>3.01</td>\n      <td>12.2289</td>\n      <td>1.954417e+09</td>\n      <td>27.2795</td>\n    </tr>\n  </tbody>\n</table>\n</div>"
     },
     "metadata": {},
     "execution_count": 3
    }
   ],
   "source": [
    "stock_codes = ['600519','300750']\n",
    "ef.stock.get_base_info(stock_codes)"
   ]
  },
  {
   "source": [
    "### 获取单只股票日 k 数据"
   ],
   "cell_type": "markdown",
   "metadata": {}
  },
  {
   "cell_type": "code",
   "execution_count": 4,
   "metadata": {},
   "outputs": [
    {
     "output_type": "execute_result",
     "data": {
      "text/plain": [
       "      股票名称    股票代码          日期       开盘       收盘       最高       最低     成交量  \\\n",
       "0     贵州茅台  600519  2001-08-27   -70.44   -70.24   -69.79   -70.77  406318   \n",
       "1     贵州茅台  600519  2001-08-28   -70.35   -69.97   -69.95   -70.42  129647   \n",
       "2     贵州茅台  600519  2001-08-29   -69.95   -70.07   -69.95   -70.13   53252   \n",
       "3     贵州茅台  600519  2001-08-30   -70.09   -69.93   -69.85   -70.15   48013   \n",
       "4     贵州茅台  600519  2001-08-31   -69.92   -69.94   -69.82   -69.99   23231   \n",
       "...    ...     ...         ...      ...      ...      ...      ...     ...   \n",
       "4617  贵州茅台  600519  2020-12-25  1802.99  1830.00  1847.00  1800.00   23088   \n",
       "4618  贵州茅台  600519  2020-12-28  1826.60  1873.00  1888.80  1826.05   30080   \n",
       "4619  贵州茅台  600519  2020-12-29  1873.00  1867.00  1886.80  1855.00   22868   \n",
       "4620  贵州茅台  600519  2020-12-30  1870.00  1933.00  1933.00  1869.99   34452   \n",
       "4621  贵州茅台  600519  2020-12-31  1941.00  1998.00  1998.98  1939.00   38860   \n",
       "\n",
       "                成交额     振幅    涨跌幅    涨跌额    换手率  \n",
       "0     1410347000.00  -1.38   1.15   0.82  56.83  \n",
       "1      463463000.00  -0.67   0.38   0.27  18.13  \n",
       "2      194689000.00  -0.26  -0.14  -0.10   7.45  \n",
       "3      177558000.00  -0.43   0.20   0.14   6.72  \n",
       "4       86231000.00  -0.24  -0.01  -0.01   3.25  \n",
       "...             ...    ...    ...    ...    ...  \n",
       "4617  4218997632.00   2.57  -0.02  -0.34   0.18  \n",
       "4618  5616528640.00   3.43   2.35  43.00   0.24  \n",
       "4619  4275994832.00   1.70  -0.32  -6.00   0.18  \n",
       "4620  6604461312.00   3.37   3.54  66.00   0.27  \n",
       "4621  7682300672.00   3.10   3.36  65.00   0.31  \n",
       "\n",
       "[4622 rows x 13 columns]"
      ],
      "text/html": "<div>\n<style scoped>\n    .dataframe tbody tr th:only-of-type {\n        vertical-align: middle;\n    }\n\n    .dataframe tbody tr th {\n        vertical-align: top;\n    }\n\n    .dataframe thead th {\n        text-align: right;\n    }\n</style>\n<table border=\"1\" class=\"dataframe\">\n  <thead>\n    <tr style=\"text-align: right;\">\n      <th></th>\n      <th>股票名称</th>\n      <th>股票代码</th>\n      <th>日期</th>\n      <th>开盘</th>\n      <th>收盘</th>\n      <th>最高</th>\n      <th>最低</th>\n      <th>成交量</th>\n      <th>成交额</th>\n      <th>振幅</th>\n      <th>涨跌幅</th>\n      <th>涨跌额</th>\n      <th>换手率</th>\n    </tr>\n  </thead>\n  <tbody>\n    <tr>\n      <th>0</th>\n      <td>贵州茅台</td>\n      <td>600519</td>\n      <td>2001-08-27</td>\n      <td>-70.44</td>\n      <td>-70.24</td>\n      <td>-69.79</td>\n      <td>-70.77</td>\n      <td>406318</td>\n      <td>1410347000.00</td>\n      <td>-1.38</td>\n      <td>1.15</td>\n      <td>0.82</td>\n      <td>56.83</td>\n    </tr>\n    <tr>\n      <th>1</th>\n      <td>贵州茅台</td>\n      <td>600519</td>\n      <td>2001-08-28</td>\n      <td>-70.35</td>\n      <td>-69.97</td>\n      <td>-69.95</td>\n      <td>-70.42</td>\n      <td>129647</td>\n      <td>463463000.00</td>\n      <td>-0.67</td>\n      <td>0.38</td>\n      <td>0.27</td>\n      <td>18.13</td>\n    </tr>\n    <tr>\n      <th>2</th>\n      <td>贵州茅台</td>\n      <td>600519</td>\n      <td>2001-08-29</td>\n      <td>-69.95</td>\n      <td>-70.07</td>\n      <td>-69.95</td>\n      <td>-70.13</td>\n      <td>53252</td>\n      <td>194689000.00</td>\n      <td>-0.26</td>\n      <td>-0.14</td>\n      <td>-0.10</td>\n      <td>7.45</td>\n    </tr>\n    <tr>\n      <th>3</th>\n      <td>贵州茅台</td>\n      <td>600519</td>\n      <td>2001-08-30</td>\n      <td>-70.09</td>\n      <td>-69.93</td>\n      <td>-69.85</td>\n      <td>-70.15</td>\n      <td>48013</td>\n      <td>177558000.00</td>\n      <td>-0.43</td>\n      <td>0.20</td>\n      <td>0.14</td>\n      <td>6.72</td>\n    </tr>\n    <tr>\n      <th>4</th>\n      <td>贵州茅台</td>\n      <td>600519</td>\n      <td>2001-08-31</td>\n      <td>-69.92</td>\n      <td>-69.94</td>\n      <td>-69.82</td>\n      <td>-69.99</td>\n      <td>23231</td>\n      <td>86231000.00</td>\n      <td>-0.24</td>\n      <td>-0.01</td>\n      <td>-0.01</td>\n      <td>3.25</td>\n    </tr>\n    <tr>\n      <th>...</th>\n      <td>...</td>\n      <td>...</td>\n      <td>...</td>\n      <td>...</td>\n      <td>...</td>\n      <td>...</td>\n      <td>...</td>\n      <td>...</td>\n      <td>...</td>\n      <td>...</td>\n      <td>...</td>\n      <td>...</td>\n      <td>...</td>\n    </tr>\n    <tr>\n      <th>4617</th>\n      <td>贵州茅台</td>\n      <td>600519</td>\n      <td>2020-12-25</td>\n      <td>1802.99</td>\n      <td>1830.00</td>\n      <td>1847.00</td>\n      <td>1800.00</td>\n      <td>23088</td>\n      <td>4218997632.00</td>\n      <td>2.57</td>\n      <td>-0.02</td>\n      <td>-0.34</td>\n      <td>0.18</td>\n    </tr>\n    <tr>\n      <th>4618</th>\n      <td>贵州茅台</td>\n      <td>600519</td>\n      <td>2020-12-28</td>\n      <td>1826.60</td>\n      <td>1873.00</td>\n      <td>1888.80</td>\n      <td>1826.05</td>\n      <td>30080</td>\n      <td>5616528640.00</td>\n      <td>3.43</td>\n      <td>2.35</td>\n      <td>43.00</td>\n      <td>0.24</td>\n    </tr>\n    <tr>\n      <th>4619</th>\n      <td>贵州茅台</td>\n      <td>600519</td>\n      <td>2020-12-29</td>\n      <td>1873.00</td>\n      <td>1867.00</td>\n      <td>1886.80</td>\n      <td>1855.00</td>\n      <td>22868</td>\n      <td>4275994832.00</td>\n      <td>1.70</td>\n      <td>-0.32</td>\n      <td>-6.00</td>\n      <td>0.18</td>\n    </tr>\n    <tr>\n      <th>4620</th>\n      <td>贵州茅台</td>\n      <td>600519</td>\n      <td>2020-12-30</td>\n      <td>1870.00</td>\n      <td>1933.00</td>\n      <td>1933.00</td>\n      <td>1869.99</td>\n      <td>34452</td>\n      <td>6604461312.00</td>\n      <td>3.37</td>\n      <td>3.54</td>\n      <td>66.00</td>\n      <td>0.27</td>\n    </tr>\n    <tr>\n      <th>4621</th>\n      <td>贵州茅台</td>\n      <td>600519</td>\n      <td>2020-12-31</td>\n      <td>1941.00</td>\n      <td>1998.00</td>\n      <td>1998.98</td>\n      <td>1939.00</td>\n      <td>38860</td>\n      <td>7682300672.00</td>\n      <td>3.10</td>\n      <td>3.36</td>\n      <td>65.00</td>\n      <td>0.31</td>\n    </tr>\n  </tbody>\n</table>\n<p>4622 rows × 13 columns</p>\n</div>"
     },
     "metadata": {},
     "execution_count": 4
    }
   ],
   "source": [
    "\n",
    "beg = '20200101' # 开始日期\n",
    "end = '20210101'   # 结束日期\n",
    "ef.stock.get_quote_history(stock_code,beg== beg,end=end)"
   ]
  },
  {
   "source": [
    "#### 获取单只股票的 5 分钟k线数据"
   ],
   "cell_type": "markdown",
   "metadata": {}
  },
  {
   "cell_type": "code",
   "execution_count": 5,
   "metadata": {},
   "outputs": [
    {
     "output_type": "stream",
     "name": "stderr",
     "text": [
      "processing 300750: 100%|██████████| 2/2 [00:02<00:00,  1.14s/it]\n"
     ]
    },
    {
     "output_type": "execute_result",
     "data": {
      "text/plain": [
       "      股票名称    股票代码                日期       开盘       收盘       最高       最低  \\\n",
       "0     贵州茅台  600519  2021-04-27 09:35  2087.08  2075.62  2089.00  2071.22   \n",
       "1     贵州茅台  600519  2021-04-27 09:40  2076.72  2071.10  2078.00  2065.09   \n",
       "2     贵州茅台  600519  2021-04-27 09:45  2070.99  2073.39  2074.00  2066.47   \n",
       "3     贵州茅台  600519  2021-04-27 09:50  2073.43  2086.60  2086.60  2070.10   \n",
       "4     贵州茅台  600519  2021-04-27 09:55  2086.00  2084.96  2089.99  2073.01   \n",
       "...    ...     ...               ...      ...      ...      ...      ...   \n",
       "1531  贵州茅台  600519  2021-06-15 14:40  2193.11  2194.08  2195.99  2193.05   \n",
       "1532  贵州茅台  600519  2021-06-15 14:45  2194.96  2195.08  2196.00  2193.05   \n",
       "1533  贵州茅台  600519  2021-06-15 14:50  2195.99  2195.70  2196.00  2195.10   \n",
       "1534  贵州茅台  600519  2021-06-15 14:55  2195.59  2195.99  2198.00  2195.44   \n",
       "1535  贵州茅台  600519  2021-06-15 15:00  2196.00  2193.00  2197.45  2193.00   \n",
       "\n",
       "       成交量           成交额    振幅    涨跌幅    涨跌额   换手率  \n",
       "0     1571  326956690.00  0.86  -0.11  -2.20  0.01  \n",
       "1     1467  303719578.00  0.62  -0.22  -4.52  0.01  \n",
       "2      630  130532178.00  0.36   0.11   2.29  0.01  \n",
       "3      860  178883721.00  0.80   0.64  13.21  0.01  \n",
       "4      863  179926439.00  0.81  -0.08  -1.64  0.01  \n",
       "...    ...           ...   ...    ...    ...   ...  \n",
       "1531   232   50913057.00  0.13   0.00   0.08  0.00  \n",
       "1532   328   71988935.00  0.13   0.05   1.00  0.00  \n",
       "1533   334   73418896.00  0.04   0.03   0.62  0.00  \n",
       "1534   462  101532815.00  0.12   0.01   0.29  0.00  \n",
       "1535   520  114144424.00  0.20  -0.14  -2.99  0.00  \n",
       "\n",
       "[1536 rows x 13 columns]"
      ],
      "text/html": "<div>\n<style scoped>\n    .dataframe tbody tr th:only-of-type {\n        vertical-align: middle;\n    }\n\n    .dataframe tbody tr th {\n        vertical-align: top;\n    }\n\n    .dataframe thead th {\n        text-align: right;\n    }\n</style>\n<table border=\"1\" class=\"dataframe\">\n  <thead>\n    <tr style=\"text-align: right;\">\n      <th></th>\n      <th>股票名称</th>\n      <th>股票代码</th>\n      <th>日期</th>\n      <th>开盘</th>\n      <th>收盘</th>\n      <th>最高</th>\n      <th>最低</th>\n      <th>成交量</th>\n      <th>成交额</th>\n      <th>振幅</th>\n      <th>涨跌幅</th>\n      <th>涨跌额</th>\n      <th>换手率</th>\n    </tr>\n  </thead>\n  <tbody>\n    <tr>\n      <th>0</th>\n      <td>贵州茅台</td>\n      <td>600519</td>\n      <td>2021-04-27 09:35</td>\n      <td>2087.08</td>\n      <td>2075.62</td>\n      <td>2089.00</td>\n      <td>2071.22</td>\n      <td>1571</td>\n      <td>326956690.00</td>\n      <td>0.86</td>\n      <td>-0.11</td>\n      <td>-2.20</td>\n      <td>0.01</td>\n    </tr>\n    <tr>\n      <th>1</th>\n      <td>贵州茅台</td>\n      <td>600519</td>\n      <td>2021-04-27 09:40</td>\n      <td>2076.72</td>\n      <td>2071.10</td>\n      <td>2078.00</td>\n      <td>2065.09</td>\n      <td>1467</td>\n      <td>303719578.00</td>\n      <td>0.62</td>\n      <td>-0.22</td>\n      <td>-4.52</td>\n      <td>0.01</td>\n    </tr>\n    <tr>\n      <th>2</th>\n      <td>贵州茅台</td>\n      <td>600519</td>\n      <td>2021-04-27 09:45</td>\n      <td>2070.99</td>\n      <td>2073.39</td>\n      <td>2074.00</td>\n      <td>2066.47</td>\n      <td>630</td>\n      <td>130532178.00</td>\n      <td>0.36</td>\n      <td>0.11</td>\n      <td>2.29</td>\n      <td>0.01</td>\n    </tr>\n    <tr>\n      <th>3</th>\n      <td>贵州茅台</td>\n      <td>600519</td>\n      <td>2021-04-27 09:50</td>\n      <td>2073.43</td>\n      <td>2086.60</td>\n      <td>2086.60</td>\n      <td>2070.10</td>\n      <td>860</td>\n      <td>178883721.00</td>\n      <td>0.80</td>\n      <td>0.64</td>\n      <td>13.21</td>\n      <td>0.01</td>\n    </tr>\n    <tr>\n      <th>4</th>\n      <td>贵州茅台</td>\n      <td>600519</td>\n      <td>2021-04-27 09:55</td>\n      <td>2086.00</td>\n      <td>2084.96</td>\n      <td>2089.99</td>\n      <td>2073.01</td>\n      <td>863</td>\n      <td>179926439.00</td>\n      <td>0.81</td>\n      <td>-0.08</td>\n      <td>-1.64</td>\n      <td>0.01</td>\n    </tr>\n    <tr>\n      <th>...</th>\n      <td>...</td>\n      <td>...</td>\n      <td>...</td>\n      <td>...</td>\n      <td>...</td>\n      <td>...</td>\n      <td>...</td>\n      <td>...</td>\n      <td>...</td>\n      <td>...</td>\n      <td>...</td>\n      <td>...</td>\n      <td>...</td>\n    </tr>\n    <tr>\n      <th>1531</th>\n      <td>贵州茅台</td>\n      <td>600519</td>\n      <td>2021-06-15 14:40</td>\n      <td>2193.11</td>\n      <td>2194.08</td>\n      <td>2195.99</td>\n      <td>2193.05</td>\n      <td>232</td>\n      <td>50913057.00</td>\n      <td>0.13</td>\n      <td>0.00</td>\n      <td>0.08</td>\n      <td>0.00</td>\n    </tr>\n    <tr>\n      <th>1532</th>\n      <td>贵州茅台</td>\n      <td>600519</td>\n      <td>2021-06-15 14:45</td>\n      <td>2194.96</td>\n      <td>2195.08</td>\n      <td>2196.00</td>\n      <td>2193.05</td>\n      <td>328</td>\n      <td>71988935.00</td>\n      <td>0.13</td>\n      <td>0.05</td>\n      <td>1.00</td>\n      <td>0.00</td>\n    </tr>\n    <tr>\n      <th>1533</th>\n      <td>贵州茅台</td>\n      <td>600519</td>\n      <td>2021-06-15 14:50</td>\n      <td>2195.99</td>\n      <td>2195.70</td>\n      <td>2196.00</td>\n      <td>2195.10</td>\n      <td>334</td>\n      <td>73418896.00</td>\n      <td>0.04</td>\n      <td>0.03</td>\n      <td>0.62</td>\n      <td>0.00</td>\n    </tr>\n    <tr>\n      <th>1534</th>\n      <td>贵州茅台</td>\n      <td>600519</td>\n      <td>2021-06-15 14:55</td>\n      <td>2195.59</td>\n      <td>2195.99</td>\n      <td>2198.00</td>\n      <td>2195.44</td>\n      <td>462</td>\n      <td>101532815.00</td>\n      <td>0.12</td>\n      <td>0.01</td>\n      <td>0.29</td>\n      <td>0.00</td>\n    </tr>\n    <tr>\n      <th>1535</th>\n      <td>贵州茅台</td>\n      <td>600519</td>\n      <td>2021-06-15 15:00</td>\n      <td>2196.00</td>\n      <td>2193.00</td>\n      <td>2197.45</td>\n      <td>2193.00</td>\n      <td>520</td>\n      <td>114144424.00</td>\n      <td>0.20</td>\n      <td>-0.14</td>\n      <td>-2.99</td>\n      <td>0.00</td>\n    </tr>\n  </tbody>\n</table>\n<p>1536 rows × 13 columns</p>\n</div>"
     },
     "metadata": {},
     "execution_count": 5
    }
   ],
   "source": [
    "import efinance as ef\n",
    "stock_code = '600519'\n",
    "beg = '20200101' # 开始日期\n",
    "end = '20500101'   # 结束日期(最好比当前日期大，要不然可能没有数据)\n",
    "klt = 5 # 指定获取的 k 线数据是 5 分钟的\n",
    "ef.stock.get_quote_history(stock_code,beg = beg,end = end,klt=5)\n"
   ]
  },
  {
   "source": [
    "### 获取多只股票日 k 数据(得到以股票代码为 key，以 pandas.DataFrame 为值的字典)"
   ],
   "cell_type": "markdown",
   "metadata": {}
  },
  {
   "cell_type": "code",
   "execution_count": 6,
   "metadata": {},
   "outputs": [
    {
     "output_type": "stream",
     "name": "stderr",
     "text": [
      "Processing: 600519: 100%|██████████| 2/2 [00:02<00:00,  1.38s/it]\n"
     ]
    }
   ],
   "source": [
    "\n",
    "beg = '20200101' # 开始日期\n",
    "end = '20210101'   # 结束日期\n",
    "stock_codes = ['600519','300750']\n",
    "df_items = ef.stock.get_quote_history(stock_codes,beg== beg,end=end)"
   ]
  },
  {
   "cell_type": "code",
   "execution_count": 7,
   "metadata": {},
   "outputs": [
    {
     "output_type": "execute_result",
     "data": {
      "text/plain": [
       "dict"
      ]
     },
     "metadata": {},
     "execution_count": 7
    }
   ],
   "source": [
    "type(df_items) # 查看类型"
   ]
  },
  {
   "cell_type": "code",
   "execution_count": 8,
   "metadata": {},
   "outputs": [
    {
     "output_type": "execute_result",
     "data": {
      "text/plain": [
       "dict_keys(['300750', '600519'])"
      ]
     },
     "metadata": {},
     "execution_count": 8
    }
   ],
   "source": [
    "df_items.keys()"
   ]
  },
  {
   "cell_type": "code",
   "execution_count": 9,
   "metadata": {},
   "outputs": [
    {
     "output_type": "execute_result",
     "data": {
      "text/plain": [
       "      股票名称    股票代码          日期       开盘       收盘       最高       最低     成交量  \\\n",
       "0     贵州茅台  600519  2001-08-27   -70.44   -70.24   -69.79   -70.77  406318   \n",
       "1     贵州茅台  600519  2001-08-28   -70.35   -69.97   -69.95   -70.42  129647   \n",
       "2     贵州茅台  600519  2001-08-29   -69.95   -70.07   -69.95   -70.13   53252   \n",
       "3     贵州茅台  600519  2001-08-30   -70.09   -69.93   -69.85   -70.15   48013   \n",
       "4     贵州茅台  600519  2001-08-31   -69.92   -69.94   -69.82   -69.99   23231   \n",
       "...    ...     ...         ...      ...      ...      ...      ...     ...   \n",
       "4617  贵州茅台  600519  2020-12-25  1802.99  1830.00  1847.00  1800.00   23088   \n",
       "4618  贵州茅台  600519  2020-12-28  1826.60  1873.00  1888.80  1826.05   30080   \n",
       "4619  贵州茅台  600519  2020-12-29  1873.00  1867.00  1886.80  1855.00   22868   \n",
       "4620  贵州茅台  600519  2020-12-30  1870.00  1933.00  1933.00  1869.99   34452   \n",
       "4621  贵州茅台  600519  2020-12-31  1941.00  1998.00  1998.98  1939.00   38860   \n",
       "\n",
       "                成交额     振幅    涨跌幅    涨跌额    换手率  \n",
       "0     1410347000.00  -1.38   1.15   0.82  56.83  \n",
       "1      463463000.00  -0.67   0.38   0.27  18.13  \n",
       "2      194689000.00  -0.26  -0.14  -0.10   7.45  \n",
       "3      177558000.00  -0.43   0.20   0.14   6.72  \n",
       "4       86231000.00  -0.24  -0.01  -0.01   3.25  \n",
       "...             ...    ...    ...    ...    ...  \n",
       "4617  4218997632.00   2.57  -0.02  -0.34   0.18  \n",
       "4618  5616528640.00   3.43   2.35  43.00   0.24  \n",
       "4619  4275994832.00   1.70  -0.32  -6.00   0.18  \n",
       "4620  6604461312.00   3.37   3.54  66.00   0.27  \n",
       "4621  7682300672.00   3.10   3.36  65.00   0.31  \n",
       "\n",
       "[4622 rows x 13 columns]"
      ],
      "text/html": "<div>\n<style scoped>\n    .dataframe tbody tr th:only-of-type {\n        vertical-align: middle;\n    }\n\n    .dataframe tbody tr th {\n        vertical-align: top;\n    }\n\n    .dataframe thead th {\n        text-align: right;\n    }\n</style>\n<table border=\"1\" class=\"dataframe\">\n  <thead>\n    <tr style=\"text-align: right;\">\n      <th></th>\n      <th>股票名称</th>\n      <th>股票代码</th>\n      <th>日期</th>\n      <th>开盘</th>\n      <th>收盘</th>\n      <th>最高</th>\n      <th>最低</th>\n      <th>成交量</th>\n      <th>成交额</th>\n      <th>振幅</th>\n      <th>涨跌幅</th>\n      <th>涨跌额</th>\n      <th>换手率</th>\n    </tr>\n  </thead>\n  <tbody>\n    <tr>\n      <th>0</th>\n      <td>贵州茅台</td>\n      <td>600519</td>\n      <td>2001-08-27</td>\n      <td>-70.44</td>\n      <td>-70.24</td>\n      <td>-69.79</td>\n      <td>-70.77</td>\n      <td>406318</td>\n      <td>1410347000.00</td>\n      <td>-1.38</td>\n      <td>1.15</td>\n      <td>0.82</td>\n      <td>56.83</td>\n    </tr>\n    <tr>\n      <th>1</th>\n      <td>贵州茅台</td>\n      <td>600519</td>\n      <td>2001-08-28</td>\n      <td>-70.35</td>\n      <td>-69.97</td>\n      <td>-69.95</td>\n      <td>-70.42</td>\n      <td>129647</td>\n      <td>463463000.00</td>\n      <td>-0.67</td>\n      <td>0.38</td>\n      <td>0.27</td>\n      <td>18.13</td>\n    </tr>\n    <tr>\n      <th>2</th>\n      <td>贵州茅台</td>\n      <td>600519</td>\n      <td>2001-08-29</td>\n      <td>-69.95</td>\n      <td>-70.07</td>\n      <td>-69.95</td>\n      <td>-70.13</td>\n      <td>53252</td>\n      <td>194689000.00</td>\n      <td>-0.26</td>\n      <td>-0.14</td>\n      <td>-0.10</td>\n      <td>7.45</td>\n    </tr>\n    <tr>\n      <th>3</th>\n      <td>贵州茅台</td>\n      <td>600519</td>\n      <td>2001-08-30</td>\n      <td>-70.09</td>\n      <td>-69.93</td>\n      <td>-69.85</td>\n      <td>-70.15</td>\n      <td>48013</td>\n      <td>177558000.00</td>\n      <td>-0.43</td>\n      <td>0.20</td>\n      <td>0.14</td>\n      <td>6.72</td>\n    </tr>\n    <tr>\n      <th>4</th>\n      <td>贵州茅台</td>\n      <td>600519</td>\n      <td>2001-08-31</td>\n      <td>-69.92</td>\n      <td>-69.94</td>\n      <td>-69.82</td>\n      <td>-69.99</td>\n      <td>23231</td>\n      <td>86231000.00</td>\n      <td>-0.24</td>\n      <td>-0.01</td>\n      <td>-0.01</td>\n      <td>3.25</td>\n    </tr>\n    <tr>\n      <th>...</th>\n      <td>...</td>\n      <td>...</td>\n      <td>...</td>\n      <td>...</td>\n      <td>...</td>\n      <td>...</td>\n      <td>...</td>\n      <td>...</td>\n      <td>...</td>\n      <td>...</td>\n      <td>...</td>\n      <td>...</td>\n      <td>...</td>\n    </tr>\n    <tr>\n      <th>4617</th>\n      <td>贵州茅台</td>\n      <td>600519</td>\n      <td>2020-12-25</td>\n      <td>1802.99</td>\n      <td>1830.00</td>\n      <td>1847.00</td>\n      <td>1800.00</td>\n      <td>23088</td>\n      <td>4218997632.00</td>\n      <td>2.57</td>\n      <td>-0.02</td>\n      <td>-0.34</td>\n      <td>0.18</td>\n    </tr>\n    <tr>\n      <th>4618</th>\n      <td>贵州茅台</td>\n      <td>600519</td>\n      <td>2020-12-28</td>\n      <td>1826.60</td>\n      <td>1873.00</td>\n      <td>1888.80</td>\n      <td>1826.05</td>\n      <td>30080</td>\n      <td>5616528640.00</td>\n      <td>3.43</td>\n      <td>2.35</td>\n      <td>43.00</td>\n      <td>0.24</td>\n    </tr>\n    <tr>\n      <th>4619</th>\n      <td>贵州茅台</td>\n      <td>600519</td>\n      <td>2020-12-29</td>\n      <td>1873.00</td>\n      <td>1867.00</td>\n      <td>1886.80</td>\n      <td>1855.00</td>\n      <td>22868</td>\n      <td>4275994832.00</td>\n      <td>1.70</td>\n      <td>-0.32</td>\n      <td>-6.00</td>\n      <td>0.18</td>\n    </tr>\n    <tr>\n      <th>4620</th>\n      <td>贵州茅台</td>\n      <td>600519</td>\n      <td>2020-12-30</td>\n      <td>1870.00</td>\n      <td>1933.00</td>\n      <td>1933.00</td>\n      <td>1869.99</td>\n      <td>34452</td>\n      <td>6604461312.00</td>\n      <td>3.37</td>\n      <td>3.54</td>\n      <td>66.00</td>\n      <td>0.27</td>\n    </tr>\n    <tr>\n      <th>4621</th>\n      <td>贵州茅台</td>\n      <td>600519</td>\n      <td>2020-12-31</td>\n      <td>1941.00</td>\n      <td>1998.00</td>\n      <td>1998.98</td>\n      <td>1939.00</td>\n      <td>38860</td>\n      <td>7682300672.00</td>\n      <td>3.10</td>\n      <td>3.36</td>\n      <td>65.00</td>\n      <td>0.31</td>\n    </tr>\n  </tbody>\n</table>\n<p>4622 rows × 13 columns</p>\n</div>"
     },
     "metadata": {},
     "execution_count": 9
    }
   ],
   "source": [
    "df_items[stock_codes[0]] # 查看第一支股票的的 k 线数据"
   ]
  },
  {
   "source": [
    "# 更多使用例子详见文档 [efinance-docs](https://micro-sheep.github.io/efinance)\r\n"
   ],
   "cell_type": "markdown",
   "metadata": {}
  }
 ]
}