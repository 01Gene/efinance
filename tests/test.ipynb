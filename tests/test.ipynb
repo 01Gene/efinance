{
 "metadata": {
  "language_info": {
   "codemirror_mode": {
    "name": "ipython",
    "version": 3
   },
   "file_extension": ".py",
   "mimetype": "text/x-python",
   "name": "python",
   "nbconvert_exporter": "python",
   "pygments_lexer": "ipython3",
   "version": "3.7.6"
  },
  "orig_nbformat": 2,
  "kernelspec": {
   "name": "python376jvsc74a57bd02869ce9e5406e14300c007bd85d712496dadc3f6ad6dbd3a9c900289863a5f83",
   "display_name": "Python 3.7.6 64-bit ('efinance': conda)"
  },
  "metadata": {
   "interpreter": {
    "hash": "2869ce9e5406e14300c007bd85d712496dadc3f6ad6dbd3a9c900289863a5f83"
   }
  }
 },
 "nbformat": 4,
 "nbformat_minor": 2,
 "cells": [
  {
   "cell_type": "code",
   "execution_count": null,
   "metadata": {},
   "outputs": [],
   "source": []
  }
 ]
}